{
  "nbformat": 4,
  "nbformat_minor": 0,
  "metadata": {
    "colab": {
      "provenance": []
    },
    "kernelspec": {
      "name": "python3",
      "display_name": "Python 3"
    },
    "language_info": {
      "name": "python"
    }
  },
  "cells": [
    {
      "cell_type": "code",
      "execution_count": null,
      "metadata": {
        "id": "nofuMPxqakIV"
      },
      "outputs": [],
      "source": [
        "import torch"
      ]
    },
    {
      "cell_type": "code",
      "source": [
        "device = \"cuda\" if torch.cuda.is_available() else \"cpu\"  # Cuda to run on GPU!"
      ],
      "metadata": {
        "id": "0_FLbyaibOa0"
      },
      "execution_count": null,
      "outputs": []
    },
    {
      "cell_type": "code",
      "source": [
        "var_tensor = torch.tensor(\n",
        "    [[1, 2, 3], [4, 5, 6]], dtype=torch.float32, device=device, requires_grad=True\n",
        ")"
      ],
      "metadata": {
        "id": "1txQGDiwTKtJ"
      },
      "execution_count": null,
      "outputs": []
    },
    {
      "cell_type": "code",
      "source": [
        "print({var_tensor}, {var_tensor.dtype}, {var_tensor.device}, {var_tensor.shape},{var_tensor.requires_grad} )"
      ],
      "metadata": {
        "colab": {
          "base_uri": "https://localhost:8080/"
        },
        "id": "UTxx8JbMTVrA",
        "outputId": "354cca85-11d2-4302-996e-d8d6939fb217"
      },
      "execution_count": null,
      "outputs": [
        {
          "output_type": "stream",
          "name": "stdout",
          "text": [
            "{tensor([[1., 2., 3.],\n",
            "        [4., 5., 6.]], requires_grad=True)} {torch.float32} {device(type='cpu')} {torch.Size([2, 3])} {True}\n"
          ]
        }
      ]
    },
    {
      "cell_type": "code",
      "source": [
        "torch.empty(size=(3, 3))"
      ],
      "metadata": {
        "colab": {
          "base_uri": "https://localhost:8080/"
        },
        "id": "ICbCBKLfT43A",
        "outputId": "31c4e795-f7d0-40d2-d0c1-94c9a02f7b90"
      },
      "execution_count": null,
      "outputs": [
        {
          "output_type": "execute_result",
          "data": {
            "text/plain": [
              "tensor([[2.0649e-35, 0.0000e+00, 3.3631e-44],\n",
              "        [0.0000e+00,        nan, 6.0000e+00],\n",
              "        [1.1578e+27, 1.1362e+30, 7.1547e+22]])"
            ]
          },
          "metadata": {},
          "execution_count": 14
        }
      ]
    },
    {
      "cell_type": "code",
      "source": [
        "torch.zeros((3, 3))"
      ],
      "metadata": {
        "colab": {
          "base_uri": "https://localhost:8080/"
        },
        "id": "WkhqzwOnUGNV",
        "outputId": "cf808185-8a97-41f4-8d7f-5b14cf429b43"
      },
      "execution_count": null,
      "outputs": [
        {
          "output_type": "execute_result",
          "data": {
            "text/plain": [
              "tensor([[0., 0., 0.],\n",
              "        [0., 0., 0.],\n",
              "        [0., 0., 0.]])"
            ]
          },
          "metadata": {},
          "execution_count": 15
        }
      ]
    },
    {
      "cell_type": "code",
      "source": [
        "torch.rand((3, 3))"
      ],
      "metadata": {
        "colab": {
          "base_uri": "https://localhost:8080/"
        },
        "id": "1GeHsJMaUH-T",
        "outputId": "3627472f-40fa-48ab-ffca-5f2a8dea7d2c"
      },
      "execution_count": null,
      "outputs": [
        {
          "output_type": "execute_result",
          "data": {
            "text/plain": [
              "tensor([[0.1675, 0.5753, 0.0574],\n",
              "        [0.1027, 0.4189, 0.9236],\n",
              "        [0.6538, 0.7564, 0.0538]])"
            ]
          },
          "metadata": {},
          "execution_count": 17
        }
      ]
    },
    {
      "cell_type": "code",
      "source": [
        "torch.ones((3, 3))"
      ],
      "metadata": {
        "colab": {
          "base_uri": "https://localhost:8080/"
        },
        "id": "A7akbs_VUNw_",
        "outputId": "c50bfac3-030b-4795-a8c2-482065c46356"
      },
      "execution_count": null,
      "outputs": [
        {
          "output_type": "execute_result",
          "data": {
            "text/plain": [
              "tensor([[1., 1., 1.],\n",
              "        [1., 1., 1.],\n",
              "        [1., 1., 1.]])"
            ]
          },
          "metadata": {},
          "execution_count": 18
        }
      ]
    },
    {
      "cell_type": "code",
      "source": [
        "torch.eye(5, 5)"
      ],
      "metadata": {
        "colab": {
          "base_uri": "https://localhost:8080/"
        },
        "id": "9oqadbAwUP2z",
        "outputId": "d272755e-d44f-451f-ece2-e82b5bfe4f45"
      },
      "execution_count": null,
      "outputs": [
        {
          "output_type": "execute_result",
          "data": {
            "text/plain": [
              "tensor([[1., 0., 0., 0., 0.],\n",
              "        [0., 1., 0., 0., 0.],\n",
              "        [0., 0., 1., 0., 0.],\n",
              "        [0., 0., 0., 1., 0.],\n",
              "        [0., 0., 0., 0., 1.]])"
            ]
          },
          "metadata": {},
          "execution_count": 19
        }
      ]
    },
    {
      "cell_type": "code",
      "source": [
        "torch.arange(start=0, end=5, step=1)"
      ],
      "metadata": {
        "colab": {
          "base_uri": "https://localhost:8080/"
        },
        "id": "jNW99ZiRUSDA",
        "outputId": "623aec43-bc8e-40ce-f2e8-38d80f29eafa"
      },
      "execution_count": null,
      "outputs": [
        {
          "output_type": "execute_result",
          "data": {
            "text/plain": [
              "tensor([0, 1, 2, 3, 4])"
            ]
          },
          "metadata": {},
          "execution_count": 20
        }
      ]
    },
    {
      "cell_type": "code",
      "source": [
        "torch.linspace(start=0.1, end=1, steps=5)"
      ],
      "metadata": {
        "colab": {
          "base_uri": "https://localhost:8080/"
        },
        "id": "r75pbrcoUW50",
        "outputId": "20e9e91c-8a98-4b8e-9f2f-86774df0f543"
      },
      "execution_count": null,
      "outputs": [
        {
          "output_type": "execute_result",
          "data": {
            "text/plain": [
              "tensor([0.1000, 0.3250, 0.5500, 0.7750, 1.0000])"
            ]
          },
          "metadata": {},
          "execution_count": 22
        }
      ]
    },
    {
      "cell_type": "code",
      "source": [
        "# Normally distributed with mean=0, std=1\n",
        "torch.empty(size=(1, 5)).normal_(mean=0, std=1)"
      ],
      "metadata": {
        "colab": {
          "base_uri": "https://localhost:8080/"
        },
        "id": "Xp3byfRaUcVi",
        "outputId": "9b102dd6-3ec1-46e5-b72a-f4e1db94f167"
      },
      "execution_count": null,
      "outputs": [
        {
          "output_type": "execute_result",
          "data": {
            "text/plain": [
              "tensor([[-0.8915, -1.8314,  1.8491, -1.3352,  1.2389]])"
            ]
          },
          "metadata": {},
          "execution_count": 23
        }
      ]
    },
    {
      "cell_type": "code",
      "source": [
        " torch.diag(torch.ones(3))"
      ],
      "metadata": {
        "colab": {
          "base_uri": "https://localhost:8080/"
        },
        "id": "HaSFGXxjUjvs",
        "outputId": "23d04318-05d3-4d75-ffaa-6df5c1e151d9"
      },
      "execution_count": null,
      "outputs": [
        {
          "output_type": "execute_result",
          "data": {
            "text/plain": [
              "tensor([[1., 0., 0.],\n",
              "        [0., 1., 0.],\n",
              "        [0., 0., 1.]])"
            ]
          },
          "metadata": {},
          "execution_count": 24
        }
      ]
    },
    {
      "cell_type": "code",
      "source": [
        "var_tensor = torch.arange(4)\n",
        "print(var_tensor.bool())\n",
        "print(var_tensor.half())\n",
        "print(var_tensor.float())"
      ],
      "metadata": {
        "colab": {
          "base_uri": "https://localhost:8080/"
        },
        "id": "j-b-Nv2mUpTC",
        "outputId": "0d54be73-2f4b-4336-e3b7-0e46704d9ffa"
      },
      "execution_count": null,
      "outputs": [
        {
          "output_type": "stream",
          "name": "stdout",
          "text": [
            "tensor([False,  True,  True,  True])\n",
            "tensor([0., 1., 2., 3.], dtype=torch.float16)\n",
            "tensor([0., 1., 2., 3.])\n"
          ]
        }
      ]
    },
    {
      "cell_type": "code",
      "source": [
        "import numpy as np\n",
        "\n",
        "np_array = np.zeros((5, 5))\n",
        "print(\"np_array : \", np_array)\n",
        "tensor = torch.from_numpy(np_array)\n",
        "print(\"tensor : \", tensor)\n",
        "np_array_again = (tensor.numpy())\n",
        "print(\"np again : \", np_array_again)"
      ],
      "metadata": {
        "colab": {
          "base_uri": "https://localhost:8080/"
        },
        "id": "DKr2QQPJVZ4P",
        "outputId": "56087c77-6d39-4d17-d865-47c3c3c834ae"
      },
      "execution_count": null,
      "outputs": [
        {
          "output_type": "stream",
          "name": "stdout",
          "text": [
            "np_array :  [[0. 0. 0. 0. 0.]\n",
            " [0. 0. 0. 0. 0.]\n",
            " [0. 0. 0. 0. 0.]\n",
            " [0. 0. 0. 0. 0.]\n",
            " [0. 0. 0. 0. 0.]]\n",
            "tensor :  tensor([[0., 0., 0., 0., 0.],\n",
            "        [0., 0., 0., 0., 0.],\n",
            "        [0., 0., 0., 0., 0.],\n",
            "        [0., 0., 0., 0., 0.],\n",
            "        [0., 0., 0., 0., 0.]], dtype=torch.float64)\n",
            "np again :  [[0. 0. 0. 0. 0.]\n",
            " [0. 0. 0. 0. 0.]\n",
            " [0. 0. 0. 0. 0.]\n",
            " [0. 0. 0. 0. 0.]\n",
            " [0. 0. 0. 0. 0.]]\n"
          ]
        }
      ]
    },
    {
      "cell_type": "code",
      "source": [
        "x = torch.tensor([2, 3, 4])\n",
        "y = torch.tensor([7, 6, 5])"
      ],
      "metadata": {
        "id": "Ge59zXP-V9xo"
      },
      "execution_count": null,
      "outputs": []
    },
    {
      "cell_type": "code",
      "source": [
        "z1 = torch.empty(3)\n",
        "print(\"Way 1 : \",torch.add(x, y, out=z1))\n",
        "z2 = torch.add(x, y)\n",
        "print(\"Way 2 : \", z2)\n",
        "z = x + y\n",
        "print(\"Way 3 : \", z)\n",
        "\n",
        "#similarly we can do subtraction and division"
      ],
      "metadata": {
        "colab": {
          "base_uri": "https://localhost:8080/"
        },
        "id": "Y_4cT0p6WEzH",
        "outputId": "15089291-f4b7-4b44-9e36-0bb681e46d6b"
      },
      "execution_count": null,
      "outputs": [
        {
          "output_type": "stream",
          "name": "stdout",
          "text": [
            "Way 1 :  tensor([9., 9., 9.])\n",
            "Way 2 :  tensor([9, 9, 9])\n",
            "Way 3 :  tensor([9, 9, 9])\n"
          ]
        }
      ]
    },
    {
      "cell_type": "code",
      "source": [
        "print(\"Way 1 : \", x.pow(2))\n",
        "print(\"Way 2 : \",x ** 2)"
      ],
      "metadata": {
        "colab": {
          "base_uri": "https://localhost:8080/"
        },
        "id": "AWryu1FWW97N",
        "outputId": "040180c1-af62-4209-db0b-112d373e100b"
      },
      "execution_count": null,
      "outputs": [
        {
          "output_type": "stream",
          "name": "stdout",
          "text": [
            "Way 1 :  tensor([ 4,  9, 16])\n",
            "Way 2 :  tensor([ 4,  9, 16])\n"
          ]
        }
      ]
    }
  ]
}